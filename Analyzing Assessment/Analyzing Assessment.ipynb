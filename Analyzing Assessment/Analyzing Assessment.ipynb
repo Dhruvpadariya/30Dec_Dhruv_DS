{
 "cells": [
  {
   "cell_type": "code",
   "execution_count": 2,
   "id": "035be2e7",
   "metadata": {},
   "outputs": [],
   "source": [
    "import numpy as np\n",
    "import pandas as pd\n",
    "import matplotlib.pyplot as plt"
   ]
  },
  {
   "cell_type": "code",
   "execution_count": 4,
   "id": "48393d20",
   "metadata": {},
   "outputs": [
    {
     "data": {
      "text/plain": [
       "array([ 5,  2,  8,  1,  9,  7,  2,  8, 10, 15])"
      ]
     },
     "execution_count": 4,
     "metadata": {},
     "output_type": "execute_result"
    }
   ],
   "source": [
    "#  NUMPY\n",
    "#Q.1 Convert a 1D array to a 2D array with 2 rows\n",
    "eb=np.array([5,2,8,1,9,7,2,8,10,15])                      #Creating A 1D Array\n",
    "eb"
   ]
  },
  {
   "cell_type": "code",
   "execution_count": 5,
   "id": "d0d137b1",
   "metadata": {},
   "outputs": [
    {
     "data": {
      "text/plain": [
       "array([[ 5,  2,  8,  1,  9],\n",
       "       [ 7,  2,  8, 10, 15]])"
      ]
     },
     "execution_count": 5,
     "metadata": {},
     "output_type": "execute_result"
    }
   ],
   "source": [
    "rp=eb.reshape(2,5)                                       #Reshaping the 1D Array into 2D Array with 2 rows\n",
    "rp"
   ]
  },
  {
   "cell_type": "code",
   "execution_count": 6,
   "id": "2ba5bec6",
   "metadata": {},
   "outputs": [
    {
     "data": {
      "text/plain": [
       "array([2, 4])"
      ]
     },
     "execution_count": 6,
     "metadata": {},
     "output_type": "execute_result"
    }
   ],
   "source": [
    "'''\n",
    "    Q.2 Get the common items between a and b\n",
    "\tInput:\n",
    "\ta = np.array([1,2,3,2,3,4,3,4,5,6])\n",
    "\tb = np.array([7,2,10,2,7,4,9,4,9,8])\n",
    "    Desired Output:\n",
    "\tarray([2, 4])\n",
    "    '''\n",
    "a = np.array([1,2,3,2,3,4,3,4,5,6])\n",
    "b = np.array([7,2,10,2,7,4,9,4,9,8])\n",
    "\n",
    "common_ele=np.intersect1d(a,b)\n",
    "\n",
    "common_ele"
   ]
  },
  {
   "cell_type": "code",
   "execution_count": 7,
   "id": "58f207f0",
   "metadata": {},
   "outputs": [
    {
     "name": "stdout",
     "output_type": "stream",
     "text": [
      "[ 6  9 10]\n"
     ]
    }
   ],
   "source": [
    "'''\n",
    "    Q.3 Get all items between 5 and 10 from a.\n",
    "\tInput:\n",
    "\ta = np.array([2, 6, 1, 9, 10, 3, 27])\n",
    "\tDesired Output:\n",
    "\t(array([6, 9, 10]),)\n",
    "   '''\n",
    "\n",
    "a = np.array([2, 6, 1, 9, 10, 3, 27])\n",
    "\n",
    "eo=a[(a>= 5) & (a<=10)]\n",
    "print(eo)"
   ]
  },
  {
   "cell_type": "code",
   "execution_count": 11,
   "id": "9be1b95c",
   "metadata": {},
   "outputs": [
    {
     "name": "stdout",
     "output_type": "stream",
     "text": [
      "[ 0  1  2 ... 12 13 14]\n"
     ]
    }
   ],
   "source": [
    "'''\n",
    "\tQ.4 Limit the number of items printed in python NumPy array a to a maximum of 6\n",
    "\telements.\n",
    "\tInput:\n",
    "\tarray([ 0, 1, 2, 3, 4, 5, 6, 7, 8, 9, 10, 11, 12, 13, 14])\n",
    "\tDesired Output:\n",
    "\tarray([ 0, 1, 2, ..., 12, 13, 14])\n",
    "    '''\n",
    "\n",
    "a=np.array([ 0, 1, 2, 3, 4, 5, 6, 7, 8, 9, 10, 11, 12, 13, 14])\n",
    "\n",
    "np.set_printoptions(threshold=6)\n",
    "print(a)"
   ]
  },
  {
   "cell_type": "code",
   "execution_count": 14,
   "id": "38505140",
   "metadata": {},
   "outputs": [
    {
     "data": {
      "text/plain": [
       "count     6.000000\n",
       "mean     59.833333\n",
       "std      21.775368\n",
       "min      29.000000\n",
       "25%      49.000000\n",
       "50%      58.000000\n",
       "75%      72.250000\n",
       "max      91.000000\n",
       "dtype: float64"
      ]
     },
     "execution_count": 14,
     "metadata": {},
     "output_type": "execute_result"
    }
   ],
   "source": [
    "#   PANDAS\n",
    "# 1. Compute the minimum, 25th percentile, median, 75th, and maximum of series.\n",
    "\n",
    "ne=pd.Series([64,29,75,91,48,52])\n",
    "\n",
    "ne.describe()"
   ]
  },
  {
   "cell_type": "code",
   "execution_count": 10,
   "id": "1c76645d",
   "metadata": {},
   "outputs": [
    {
     "data": {
      "text/html": [
       "<div>\n",
       "<style scoped>\n",
       "    .dataframe tbody tr th:only-of-type {\n",
       "        vertical-align: middle;\n",
       "    }\n",
       "\n",
       "    .dataframe tbody tr th {\n",
       "        vertical-align: top;\n",
       "    }\n",
       "\n",
       "    .dataframe thead th {\n",
       "        text-align: right;\n",
       "    }\n",
       "</style>\n",
       "<table border=\"1\" class=\"dataframe\">\n",
       "  <thead>\n",
       "    <tr style=\"text-align: right;\">\n",
       "      <th></th>\n",
       "      <th>Name</th>\n",
       "      <th>Age</th>\n",
       "    </tr>\n",
       "  </thead>\n",
       "  <tbody>\n",
       "    <tr>\n",
       "      <th>0</th>\n",
       "      <td>Dhruv</td>\n",
       "      <td>23</td>\n",
       "    </tr>\n",
       "    <tr>\n",
       "      <th>1</th>\n",
       "      <td>Rahul</td>\n",
       "      <td>65</td>\n",
       "    </tr>\n",
       "    <tr>\n",
       "      <th>2</th>\n",
       "      <td>Malay</td>\n",
       "      <td>12</td>\n",
       "    </tr>\n",
       "    <tr>\n",
       "      <th>3</th>\n",
       "      <td>Harsh</td>\n",
       "      <td>93</td>\n",
       "    </tr>\n",
       "    <tr>\n",
       "      <th>4</th>\n",
       "      <td>Mishwa</td>\n",
       "      <td>19</td>\n",
       "    </tr>\n",
       "    <tr>\n",
       "      <th>5</th>\n",
       "      <td>Dhrumexa</td>\n",
       "      <td>38</td>\n",
       "    </tr>\n",
       "    <tr>\n",
       "      <th>6</th>\n",
       "      <td>Zakiya</td>\n",
       "      <td>25</td>\n",
       "    </tr>\n",
       "  </tbody>\n",
       "</table>\n",
       "</div>"
      ],
      "text/plain": [
       "       Name  Age\n",
       "0     Dhruv   23\n",
       "1     Rahul   65\n",
       "2     Malay   12\n",
       "3     Harsh   93\n",
       "4    Mishwa   19\n",
       "5  Dhrumexa   38\n",
       "6    Zakiya   25"
      ]
     },
     "execution_count": 10,
     "metadata": {},
     "output_type": "execute_result"
    }
   ],
   "source": [
    "# 2. Creating A Pandas Data Frame and Using Sample Data Sets\n",
    "\n",
    "vs=pd.DataFrame({\n",
    "    'Name':['Dhruv','Rahul','Malay','Harsh','Mishwa','Dhrumexa','Zakiya'],\n",
    "    'Age':[23,65,12,93,19,38,25]\n",
    "})    \n",
    "\n",
    "vs"
   ]
  },
  {
   "cell_type": "code",
   "execution_count": 15,
   "id": "243cb45e",
   "metadata": {},
   "outputs": [
    {
     "data": {
      "text/html": [
       "<div>\n",
       "<style scoped>\n",
       "    .dataframe tbody tr th:only-of-type {\n",
       "        vertical-align: middle;\n",
       "    }\n",
       "\n",
       "    .dataframe tbody tr th {\n",
       "        vertical-align: top;\n",
       "    }\n",
       "\n",
       "    .dataframe thead th {\n",
       "        text-align: right;\n",
       "    }\n",
       "</style>\n",
       "<table border=\"1\" class=\"dataframe\">\n",
       "  <thead>\n",
       "    <tr style=\"text-align: right;\">\n",
       "      <th></th>\n",
       "      <th>Name</th>\n",
       "      <th>Age</th>\n",
       "      <th>Score</th>\n",
       "    </tr>\n",
       "  </thead>\n",
       "  <tbody>\n",
       "    <tr>\n",
       "      <th>0</th>\n",
       "      <td>Alice</td>\n",
       "      <td>25</td>\n",
       "      <td>85</td>\n",
       "    </tr>\n",
       "    <tr>\n",
       "      <th>1</th>\n",
       "      <td>Bob</td>\n",
       "      <td>32</td>\n",
       "      <td>92</td>\n",
       "    </tr>\n",
       "    <tr>\n",
       "      <th>2</th>\n",
       "      <td>Charlie</td>\n",
       "      <td>41</td>\n",
       "      <td>79</td>\n",
       "    </tr>\n",
       "    <tr>\n",
       "      <th>3</th>\n",
       "      <td>David</td>\n",
       "      <td>28</td>\n",
       "      <td>88</td>\n",
       "    </tr>\n",
       "    <tr>\n",
       "      <th>4</th>\n",
       "      <td>Eve</td>\n",
       "      <td>35</td>\n",
       "      <td>90</td>\n",
       "    </tr>\n",
       "  </tbody>\n",
       "</table>\n",
       "</div>"
      ],
      "text/plain": [
       "      Name  Age  Score\n",
       "0    Alice   25     85\n",
       "1      Bob   32     92\n",
       "2  Charlie   41     79\n",
       "3    David   28     88\n",
       "4      Eve   35     90"
      ]
     },
     "execution_count": 15,
     "metadata": {},
     "output_type": "execute_result"
    }
   ],
   "source": [
    "# 3. Using NumPy, create a Pandas Data Frame with five rows and three columns.\n",
    "\n",
    "names = np.array(['Alice', 'Bob', 'Charlie', 'David', 'Eve'])\n",
    "ages = np.array([25, 32, 41, 28, 35])\n",
    "scores = np.array([85, 92, 79, 88, 90])\n",
    "\n",
    "dt=pd.DataFrame({'Name': names,'Age': ages,'Score': scores})\n",
    "\n",
    "dt"
   ]
  },
  {
   "cell_type": "code",
   "execution_count": 16,
   "id": "87cb5bf5",
   "metadata": {},
   "outputs": [
    {
     "data": {
      "text/html": [
       "<div>\n",
       "<style scoped>\n",
       "    .dataframe tbody tr th:only-of-type {\n",
       "        vertical-align: middle;\n",
       "    }\n",
       "\n",
       "    .dataframe tbody tr th {\n",
       "        vertical-align: top;\n",
       "    }\n",
       "\n",
       "    .dataframe thead th {\n",
       "        text-align: right;\n",
       "    }\n",
       "</style>\n",
       "<table border=\"1\" class=\"dataframe\">\n",
       "  <thead>\n",
       "    <tr style=\"text-align: right;\">\n",
       "      <th></th>\n",
       "      <th>Index</th>\n",
       "      <th>Organization Id</th>\n",
       "      <th>Name</th>\n",
       "      <th>Website</th>\n",
       "      <th>Country</th>\n",
       "      <th>Description</th>\n",
       "      <th>Founded</th>\n",
       "      <th>Industry</th>\n",
       "      <th>Number of employees</th>\n",
       "    </tr>\n",
       "  </thead>\n",
       "  <tbody>\n",
       "    <tr>\n",
       "      <th>0</th>\n",
       "      <td>1</td>\n",
       "      <td>522816eF8fdBE6d</td>\n",
       "      <td>Mckinney PLC</td>\n",
       "      <td>http://soto.com/</td>\n",
       "      <td>Sri Lanka</td>\n",
       "      <td>Synergized global system engine</td>\n",
       "      <td>1988</td>\n",
       "      <td>Dairy</td>\n",
       "      <td>3930</td>\n",
       "    </tr>\n",
       "    <tr>\n",
       "      <th>1</th>\n",
       "      <td>2</td>\n",
       "      <td>70C7FBD7e6Aa3Ea</td>\n",
       "      <td>Cunningham LLC</td>\n",
       "      <td>http://harding-duffy.com/</td>\n",
       "      <td>Namibia</td>\n",
       "      <td>Team-oriented fault-tolerant adapter</td>\n",
       "      <td>2018</td>\n",
       "      <td>Library</td>\n",
       "      <td>7871</td>\n",
       "    </tr>\n",
       "    <tr>\n",
       "      <th>2</th>\n",
       "      <td>3</td>\n",
       "      <td>428B397eA2d7290</td>\n",
       "      <td>Ruiz-Walls</td>\n",
       "      <td>http://www.atkins.biz/</td>\n",
       "      <td>Iran</td>\n",
       "      <td>Re-contextualized bifurcated moderator</td>\n",
       "      <td>2003</td>\n",
       "      <td>Hospital / Health Care</td>\n",
       "      <td>3095</td>\n",
       "    </tr>\n",
       "    <tr>\n",
       "      <th>3</th>\n",
       "      <td>4</td>\n",
       "      <td>9D234Ae8Cc51C1c</td>\n",
       "      <td>Parrish, Osborne and Clarke</td>\n",
       "      <td>http://salazar.info/</td>\n",
       "      <td>British Indian Ocean Territory (Chagos Archipe...</td>\n",
       "      <td>Fully-configurable next generation concept</td>\n",
       "      <td>1989</td>\n",
       "      <td>Supermarkets</td>\n",
       "      <td>5422</td>\n",
       "    </tr>\n",
       "    <tr>\n",
       "      <th>4</th>\n",
       "      <td>5</td>\n",
       "      <td>6CDCcdE3D0b7b44</td>\n",
       "      <td>Diaz, Robles and Haley</td>\n",
       "      <td>https://www.brooks-scott.net/</td>\n",
       "      <td>Botswana</td>\n",
       "      <td>Inverse intangible methodology</td>\n",
       "      <td>2013</td>\n",
       "      <td>Nanotechnology</td>\n",
       "      <td>3135</td>\n",
       "    </tr>\n",
       "    <tr>\n",
       "      <th>...</th>\n",
       "      <td>...</td>\n",
       "      <td>...</td>\n",
       "      <td>...</td>\n",
       "      <td>...</td>\n",
       "      <td>...</td>\n",
       "      <td>...</td>\n",
       "      <td>...</td>\n",
       "      <td>...</td>\n",
       "      <td>...</td>\n",
       "    </tr>\n",
       "    <tr>\n",
       "      <th>9995</th>\n",
       "      <td>9996</td>\n",
       "      <td>2EE82AD1Cd045cd</td>\n",
       "      <td>Neal, Day and Wang</td>\n",
       "      <td>https://carson.net/</td>\n",
       "      <td>San Marino</td>\n",
       "      <td>Team-oriented multimedia core</td>\n",
       "      <td>2013</td>\n",
       "      <td>Import / Export</td>\n",
       "      <td>6123</td>\n",
       "    </tr>\n",
       "    <tr>\n",
       "      <th>9996</th>\n",
       "      <td>9997</td>\n",
       "      <td>06f1568A2CaF04a</td>\n",
       "      <td>Barrett, Rojas and Adkins</td>\n",
       "      <td>https://douglas-garza.com/</td>\n",
       "      <td>Turkmenistan</td>\n",
       "      <td>Cross-group dedicated methodology</td>\n",
       "      <td>2018</td>\n",
       "      <td>Human Resources / HR</td>\n",
       "      <td>9043</td>\n",
       "    </tr>\n",
       "    <tr>\n",
       "      <th>9997</th>\n",
       "      <td>9998</td>\n",
       "      <td>B4B92A44e0331Bc</td>\n",
       "      <td>Franklin-Ayala</td>\n",
       "      <td>http://www.torres.org/</td>\n",
       "      <td>Yemen</td>\n",
       "      <td>Polarized exuding orchestration</td>\n",
       "      <td>1983</td>\n",
       "      <td>Financial Services</td>\n",
       "      <td>8951</td>\n",
       "    </tr>\n",
       "    <tr>\n",
       "      <th>9998</th>\n",
       "      <td>9999</td>\n",
       "      <td>01D2539e270CEbd</td>\n",
       "      <td>Wolfe-Mckee</td>\n",
       "      <td>http://www.parks.com/</td>\n",
       "      <td>Togo</td>\n",
       "      <td>Balanced value-added ability</td>\n",
       "      <td>1975</td>\n",
       "      <td>Environmental Services</td>\n",
       "      <td>2505</td>\n",
       "    </tr>\n",
       "    <tr>\n",
       "      <th>9999</th>\n",
       "      <td>10000</td>\n",
       "      <td>0D3b7DcFA21d92d</td>\n",
       "      <td>Beck LLC</td>\n",
       "      <td>https://wagner-glover.com/</td>\n",
       "      <td>Georgia</td>\n",
       "      <td>Decentralized context-sensitive service-desk</td>\n",
       "      <td>2007</td>\n",
       "      <td>Wireless</td>\n",
       "      <td>4552</td>\n",
       "    </tr>\n",
       "  </tbody>\n",
       "</table>\n",
       "<p>10000 rows × 9 columns</p>\n",
       "</div>"
      ],
      "text/plain": [
       "      Index  Organization Id                         Name  \\\n",
       "0         1  522816eF8fdBE6d                 Mckinney PLC   \n",
       "1         2  70C7FBD7e6Aa3Ea               Cunningham LLC   \n",
       "2         3  428B397eA2d7290                   Ruiz-Walls   \n",
       "3         4  9D234Ae8Cc51C1c  Parrish, Osborne and Clarke   \n",
       "4         5  6CDCcdE3D0b7b44       Diaz, Robles and Haley   \n",
       "...     ...              ...                          ...   \n",
       "9995   9996  2EE82AD1Cd045cd           Neal, Day and Wang   \n",
       "9996   9997  06f1568A2CaF04a    Barrett, Rojas and Adkins   \n",
       "9997   9998  B4B92A44e0331Bc               Franklin-Ayala   \n",
       "9998   9999  01D2539e270CEbd                  Wolfe-Mckee   \n",
       "9999  10000  0D3b7DcFA21d92d                     Beck LLC   \n",
       "\n",
       "                            Website  \\\n",
       "0                  http://soto.com/   \n",
       "1         http://harding-duffy.com/   \n",
       "2            http://www.atkins.biz/   \n",
       "3              http://salazar.info/   \n",
       "4     https://www.brooks-scott.net/   \n",
       "...                             ...   \n",
       "9995            https://carson.net/   \n",
       "9996     https://douglas-garza.com/   \n",
       "9997         http://www.torres.org/   \n",
       "9998          http://www.parks.com/   \n",
       "9999     https://wagner-glover.com/   \n",
       "\n",
       "                                                Country  \\\n",
       "0                                             Sri Lanka   \n",
       "1                                               Namibia   \n",
       "2                                                  Iran   \n",
       "3     British Indian Ocean Territory (Chagos Archipe...   \n",
       "4                                              Botswana   \n",
       "...                                                 ...   \n",
       "9995                                         San Marino   \n",
       "9996                                       Turkmenistan   \n",
       "9997                                              Yemen   \n",
       "9998                                               Togo   \n",
       "9999                                            Georgia   \n",
       "\n",
       "                                       Description  Founded  \\\n",
       "0                  Synergized global system engine     1988   \n",
       "1             Team-oriented fault-tolerant adapter     2018   \n",
       "2           Re-contextualized bifurcated moderator     2003   \n",
       "3       Fully-configurable next generation concept     1989   \n",
       "4                   Inverse intangible methodology     2013   \n",
       "...                                            ...      ...   \n",
       "9995                 Team-oriented multimedia core     2013   \n",
       "9996             Cross-group dedicated methodology     2018   \n",
       "9997               Polarized exuding orchestration     1983   \n",
       "9998                  Balanced value-added ability     1975   \n",
       "9999  Decentralized context-sensitive service-desk     2007   \n",
       "\n",
       "                    Industry  Number of employees  \n",
       "0                      Dairy                 3930  \n",
       "1                    Library                 7871  \n",
       "2     Hospital / Health Care                 3095  \n",
       "3               Supermarkets                 5422  \n",
       "4             Nanotechnology                 3135  \n",
       "...                      ...                  ...  \n",
       "9995         Import / Export                 6123  \n",
       "9996    Human Resources / HR                 9043  \n",
       "9997      Financial Services                 8951  \n",
       "9998  Environmental Services                 2505  \n",
       "9999                Wireless                 4552  \n",
       "\n",
       "[10000 rows x 9 columns]"
      ]
     },
     "execution_count": 16,
     "metadata": {},
     "output_type": "execute_result"
    }
   ],
   "source": [
    "'''5. take csv file contains at least 10,000 rows and 12 columns which numerical and text values\n",
    "according to that continue following steps.'''\n",
    "\n",
    "sa=pd.read_csv('C:\\\\Users\\\\LENOVO\\\\OneDrive\\\\Desktop\\\\aga.csv')\n",
    "sa"
   ]
  },
  {
   "cell_type": "code",
   "execution_count": 20,
   "id": "0701563f",
   "metadata": {},
   "outputs": [
    {
     "name": "stdout",
     "output_type": "stream",
     "text": [
      "<class 'pandas.core.frame.DataFrame'>\n",
      "RangeIndex: 10000 entries, 0 to 9999\n",
      "Data columns (total 9 columns):\n",
      " #   Column               Non-Null Count  Dtype \n",
      "---  ------               --------------  ----- \n",
      " 0   Index                10000 non-null  int64 \n",
      " 1   Organization Id      10000 non-null  object\n",
      " 2   Name                 10000 non-null  object\n",
      " 3   Website              10000 non-null  object\n",
      " 4   Country              10000 non-null  object\n",
      " 5   Description          10000 non-null  object\n",
      " 6   Founded              10000 non-null  int64 \n",
      " 7   Industry             10000 non-null  object\n",
      " 8   Number of employees  10000 non-null  int64 \n",
      "dtypes: int64(3), object(6)\n",
      "memory usage: 703.2+ KB\n"
     ]
    }
   ],
   "source": [
    "# 6. Write the code to show the number of rows and columns in data frame.\n",
    "\n",
    "sa.info()"
   ]
  },
  {
   "cell_type": "code",
   "execution_count": 21,
   "id": "38617a65",
   "metadata": {},
   "outputs": [
    {
     "data": {
      "text/html": [
       "<div>\n",
       "<style scoped>\n",
       "    .dataframe tbody tr th:only-of-type {\n",
       "        vertical-align: middle;\n",
       "    }\n",
       "\n",
       "    .dataframe tbody tr th {\n",
       "        vertical-align: top;\n",
       "    }\n",
       "\n",
       "    .dataframe thead th {\n",
       "        text-align: right;\n",
       "    }\n",
       "</style>\n",
       "<table border=\"1\" class=\"dataframe\">\n",
       "  <thead>\n",
       "    <tr style=\"text-align: right;\">\n",
       "      <th></th>\n",
       "      <th>Index</th>\n",
       "      <th>Organization Id</th>\n",
       "      <th>Name</th>\n",
       "      <th>Website</th>\n",
       "      <th>Country</th>\n",
       "      <th>Description</th>\n",
       "      <th>Founded</th>\n",
       "      <th>Industry</th>\n",
       "      <th>Number of employees</th>\n",
       "    </tr>\n",
       "  </thead>\n",
       "  <tbody>\n",
       "    <tr>\n",
       "      <th>0</th>\n",
       "      <td>1</td>\n",
       "      <td>522816eF8fdBE6d</td>\n",
       "      <td>Mckinney PLC</td>\n",
       "      <td>http://soto.com/</td>\n",
       "      <td>Sri Lanka</td>\n",
       "      <td>Synergized global system engine</td>\n",
       "      <td>1988</td>\n",
       "      <td>Dairy</td>\n",
       "      <td>3930</td>\n",
       "    </tr>\n",
       "    <tr>\n",
       "      <th>1</th>\n",
       "      <td>2</td>\n",
       "      <td>70C7FBD7e6Aa3Ea</td>\n",
       "      <td>Cunningham LLC</td>\n",
       "      <td>http://harding-duffy.com/</td>\n",
       "      <td>Namibia</td>\n",
       "      <td>Team-oriented fault-tolerant adapter</td>\n",
       "      <td>2018</td>\n",
       "      <td>Library</td>\n",
       "      <td>7871</td>\n",
       "    </tr>\n",
       "    <tr>\n",
       "      <th>2</th>\n",
       "      <td>3</td>\n",
       "      <td>428B397eA2d7290</td>\n",
       "      <td>Ruiz-Walls</td>\n",
       "      <td>http://www.atkins.biz/</td>\n",
       "      <td>Iran</td>\n",
       "      <td>Re-contextualized bifurcated moderator</td>\n",
       "      <td>2003</td>\n",
       "      <td>Hospital / Health Care</td>\n",
       "      <td>3095</td>\n",
       "    </tr>\n",
       "    <tr>\n",
       "      <th>3</th>\n",
       "      <td>4</td>\n",
       "      <td>9D234Ae8Cc51C1c</td>\n",
       "      <td>Parrish, Osborne and Clarke</td>\n",
       "      <td>http://salazar.info/</td>\n",
       "      <td>British Indian Ocean Territory (Chagos Archipe...</td>\n",
       "      <td>Fully-configurable next generation concept</td>\n",
       "      <td>1989</td>\n",
       "      <td>Supermarkets</td>\n",
       "      <td>5422</td>\n",
       "    </tr>\n",
       "    <tr>\n",
       "      <th>4</th>\n",
       "      <td>5</td>\n",
       "      <td>6CDCcdE3D0b7b44</td>\n",
       "      <td>Diaz, Robles and Haley</td>\n",
       "      <td>https://www.brooks-scott.net/</td>\n",
       "      <td>Botswana</td>\n",
       "      <td>Inverse intangible methodology</td>\n",
       "      <td>2013</td>\n",
       "      <td>Nanotechnology</td>\n",
       "      <td>3135</td>\n",
       "    </tr>\n",
       "  </tbody>\n",
       "</table>\n",
       "</div>"
      ],
      "text/plain": [
       "   Index  Organization Id                         Name  \\\n",
       "0      1  522816eF8fdBE6d                 Mckinney PLC   \n",
       "1      2  70C7FBD7e6Aa3Ea               Cunningham LLC   \n",
       "2      3  428B397eA2d7290                   Ruiz-Walls   \n",
       "3      4  9D234Ae8Cc51C1c  Parrish, Osborne and Clarke   \n",
       "4      5  6CDCcdE3D0b7b44       Diaz, Robles and Haley   \n",
       "\n",
       "                         Website  \\\n",
       "0               http://soto.com/   \n",
       "1      http://harding-duffy.com/   \n",
       "2         http://www.atkins.biz/   \n",
       "3           http://salazar.info/   \n",
       "4  https://www.brooks-scott.net/   \n",
       "\n",
       "                                             Country  \\\n",
       "0                                          Sri Lanka   \n",
       "1                                            Namibia   \n",
       "2                                               Iran   \n",
       "3  British Indian Ocean Territory (Chagos Archipe...   \n",
       "4                                           Botswana   \n",
       "\n",
       "                                  Description  Founded  \\\n",
       "0             Synergized global system engine     1988   \n",
       "1        Team-oriented fault-tolerant adapter     2018   \n",
       "2      Re-contextualized bifurcated moderator     2003   \n",
       "3  Fully-configurable next generation concept     1989   \n",
       "4              Inverse intangible methodology     2013   \n",
       "\n",
       "                 Industry  Number of employees  \n",
       "0                   Dairy                 3930  \n",
       "1                 Library                 7871  \n",
       "2  Hospital / Health Care                 3095  \n",
       "3            Supermarkets                 5422  \n",
       "4          Nanotechnology                 3135  "
      ]
     },
     "execution_count": 21,
     "metadata": {},
     "output_type": "execute_result"
    }
   ],
   "source": [
    "#7. How might you show the first few rows of data frame?\n",
    "\n",
    "sa.head()"
   ]
  },
  {
   "cell_type": "code",
   "execution_count": 22,
   "id": "d92f6fab",
   "metadata": {},
   "outputs": [
    {
     "data": {
      "text/plain": [
       "\"\\nAns. doesn't matter if its diamond dataframe or any other,the type of a single column would always be series\\n\\n\""
      ]
     },
     "execution_count": 22,
     "metadata": {},
     "output_type": "execute_result"
    }
   ],
   "source": [
    "'''\n",
    "8. If you select a single column from the diamonds Data Frame, what will be the type of the\n",
    "return value?\n",
    "\n",
    "'''\n",
    "'''\n",
    "Ans. doesn't matter if its diamond dataframe or any other,the type of a single column would always be series\n",
    "\n",
    "'''"
   ]
  },
  {
   "cell_type": "code",
   "execution_count": 25,
   "id": "9474315e",
   "metadata": {},
   "outputs": [
    {
     "data": {
      "image/png": "[encoded data removed]",
      "text/plain": [
       "<Figure size 640x480 with 1 Axes>"
      ]
     },
     "metadata": {},
     "output_type": "display_data"
    }
   ],
   "source": [
    "# Matplotlib\n",
    "''' 9. Create a line plot using the x and y values provided below. Label the y-axis as “Y” and\n",
    "label the x-axis as “X”. '''\n",
    "\n",
    "x = [3, 4, 5, 6]\n",
    "y = [1.5, 2, 2.5, 3]\n",
    "\n",
    "af=plt.plot(x,y,c='green')\n",
    "plt.show()"
   ]
  },
  {
   "cell_type": "code",
   "execution_count": 29,
   "id": "9cc5f05b",
   "metadata": {},
   "outputs": [
    {
     "data": {
      "image/png": "[encoded data removed]",
      "text/plain": [
       "<Figure size 640x480 with 1 Axes>"
      ]
     },
     "metadata": {},
     "output_type": "display_data"
    }
   ],
   "source": [
    "''' 10. Create an array of numbers between 0 and 6 with increments of 0.3 and name its “x”.\n",
    "Then on the same plot, plot x, x², x³, and x⁴. For consistency, use the following style lines\n",
    "respectively, “ro”, “bs”, “g”, and “:”. Lastly, make sure that the x-axis covers 0 to 6, while\n",
    "the y-axis spans from 0 to 125. Do not worry if you are not familiar with the style lines —\n",
    "you will recognize them as soon as you see the plot. '''\n",
    "x = np.arange(0, 6.3, 0.3)\n",
    "\n",
    "x_squared = x**2\n",
    "x_cubed = x**3\n",
    "x_quartic = x**4\n",
    "\n",
    "plt.plot(x, x, 'ro', label='x')\n",
    "plt.plot(x, x_squared, 'bs', label='x²')\n",
    "plt.plot(x, x_cubed, 'g', label='x³')\n",
    "plt.plot(x, x_quartic, ':', label='x⁴')\n",
    "\n",
    "plt.xlim(0, 6)\n",
    "plt.ylim(0, 125)\n",
    "\n",
    "plt.xlabel('x')\n",
    "plt.ylabel('y')\n",
    "plt.legend()\n",
    "\n",
    "plt.show()"
   ]
  },
  {
   "cell_type": "code",
   "execution_count": 9,
   "id": "321c9841",
   "metadata": {},
   "outputs": [
    {
     "data": {
      "image/png": "[encoded data removed]",
      "text/plain": [
       "<Figure size 640x480 with 1 Axes>"
      ]
     },
     "metadata": {},
     "output_type": "display_data"
    }
   ],
   "source": [
    "'''\n",
    "11. Heights and initials of a group of individuals are provided below. Create a bar plot titled\n",
    "“Height Comparison” to compare the heights among this group.\n",
    "'''\n",
    "\n",
    "height = [179, 155, 191, 152, 188, 177]\n",
    "names = ['QA', 'WB', 'EC', 'RD', 'TE', 'YF']\n",
    "\n",
    "plt.bar(names,height,color='red',width=0.1)\n",
    "plt.title('Height Comparison')\n",
    "plt.show()"
   ]
  },
  {
   "cell_type": "code",
   "execution_count": 13,
   "id": "eaa1f4bc",
   "metadata": {},
   "outputs": [
    {
     "data": {
      "image/png": "[encoded data removed]",
      "text/plain": [
       "<Figure size 640x480 with 1 Axes>"
      ]
     },
     "metadata": {},
     "output_type": "display_data"
    },
    {
     "data": {
      "image/png": "[encoded data removed]",
      "text/plain": [
       "<Figure size 640x480 with 1 Axes>"
      ]
     },
     "metadata": {},
     "output_type": "display_data"
    },
    {
     "data": {
      "image/png": "[encoded data removed]",
      "text/plain": [
       "<Figure size 640x480 with 1 Axes>"
      ]
     },
     "metadata": {},
     "output_type": "display_data"
    }
   ],
   "source": [
    "'''\n",
    "12. Plot a histogram of x, where x consists of 100,000 randomly-selected points with a normal\n",
    "distribution (hint: you can use numpy.random.randn() to generate the random points). The\n",
    "histogram should have 10 bins. Look at how the histogram changes when we try 20 and 50\n",
    "bins.\n",
    "'''\n",
    "\n",
    "np.random.seed(42)\n",
    "x=np.random.randn(100000)\n",
    "\n",
    "# Plotting the histogram with 10 bins\n",
    "plt.hist(x,bins=10)\n",
    "plt.title(\"Histogram with 10 bins\")\n",
    "plt.xlabel(\"Value\")\n",
    "plt.ylabel(\"Frequency\")\n",
    "plt.show()\n",
    "\n",
    "# Plotting the histogram with 20 bins\n",
    "plt.hist(x, bins=20)\n",
    "plt.title(\"Histogram with 20 bins\")\n",
    "plt.xlabel(\"Value\")\n",
    "plt.ylabel(\"Frequency\")\n",
    "plt.show()\n",
    "\n",
    "# Plotting the histogram with 50 bins\n",
    "plt.hist(x, bins=50)\n",
    "plt.title(\"Histogram with 50 bins\")\n",
    "plt.xlabel(\"Value\")\n",
    "plt.ylabel(\"Frequency\")\n",
    "plt.show()"
   ]
  },
  {
   "cell_type": "code",
   "execution_count": null,
   "id": "c64dce2a",
   "metadata": {},
   "outputs": [],
   "source": []
  }
 ],
 "metadata": {
  "kernelspec": {
   "display_name": "Python 3 (ipykernel)",
   "language": "python",
   "name": "python3"
  },
  "language_info": {
   "codemirror_mode": {
    "name": "ipython",
    "version": 3
   },
   "file_extension": ".py",
   "mimetype": "text/x-python",
   "name": "python",
   "nbconvert_exporter": "python",
   "pygments_lexer": "ipython3",
   "version": "3.10.9"
  }
 },
 "nbformat": 4,
 "nbformat_minor": 5
}
